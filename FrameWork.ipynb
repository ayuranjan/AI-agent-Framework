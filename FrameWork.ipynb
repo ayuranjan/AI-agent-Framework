{
 "cells": [
  {
   "cell_type": "code",
   "execution_count": 102,
   "id": "53355818-2057-4380-8b04-905595951de9",
   "metadata": {},
   "outputs": [],
   "source": [
    "from dotenv import load_dotenv\n",
    "from typing import Annotated, List\n",
    "from langchain_community.document_loaders import WebBaseLoader\n",
    "from langchain_community.tools.tavily_search import TavilySearchResults\n",
    "from langchain_core.tools import tool\n",
    "from PIL import Image \n",
    "\n",
    "from typing import List, Optional\n",
    "from langchain.agents import AgentExecutor, create_openai_functions_agent\n",
    "from langchain.output_parsers.openai_functions import JsonOutputFunctionsParser\n",
    "from langchain_core.prompts import ChatPromptTemplate, MessagesPlaceholder\n",
    "from langchain_openai import ChatOpenAI\n",
    "from langchain_anthropic import ChatAnthropic\n",
    "from langgraph.graph import END, StateGraph, START\n",
    "\n",
    "import functools\n",
    "import operator\n",
    "\n",
    "from langchain_core.messages import BaseMessage, HumanMessage\n",
    "from langchain_openai.chat_models import ChatOpenAI\n",
    "from typing_extensions import TypedDict\n",
    "from langchain_core.runnables.history import RunnableWithMessageHistory\n",
    "import base64\n",
    "import os\n",
    "from langgraph.checkpoint import MemorySaver\n",
    "from langgraph.checkpoint.sqlite import SqliteSaver\n",
    "from langgraph.prebuilt import create_react_agent\n",
    "from langchain_core.runnables import RunnableLambda\n",
    "\n",
    "load_dotenv() \n",
    "\n",
    "from langchain.memory import ChatMessageHistory\n",
    "from langgraph.checkpoint.aiosqlite import AsyncSqliteSaver\n",
    "\n",
    "\n",
    "os.environ[\"LANGCHAIN_PROJECT\"] = \"pr-this-experiment-22\""
   ]
  },
  {
   "cell_type": "code",
   "execution_count": 103,
   "id": "c6b97484-567f-4e5d-82b4-5277d6e92b81",
   "metadata": {},
   "outputs": [
    {
     "name": "stdout",
     "output_type": "stream",
     "text": [
      "Requirement already satisfied: aiosqlite in /Users/ayuranjan/miniconda3/lib/python3.11/site-packages (0.20.0)\n",
      "Requirement already satisfied: typing_extensions>=4.0 in /Users/ayuranjan/miniconda3/lib/python3.11/site-packages (from aiosqlite) (4.8.0)\n",
      "\n",
      "\u001b[1m[\u001b[0m\u001b[34;49mnotice\u001b[0m\u001b[1;39;49m]\u001b[0m\u001b[39;49m A new release of pip is available: \u001b[0m\u001b[31;49m24.0\u001b[0m\u001b[39;49m -> \u001b[0m\u001b[32;49m24.1.2\u001b[0m\n",
      "\u001b[1m[\u001b[0m\u001b[34;49mnotice\u001b[0m\u001b[1;39;49m]\u001b[0m\u001b[39;49m To update, run: \u001b[0m\u001b[32;49mpip install --upgrade pip\u001b[0m\n",
      "Note: you may need to restart the kernel to use updated packages.\n"
     ]
    }
   ],
   "source": [
    "pip install aiosqlite"
   ]
  },
  {
   "cell_type": "code",
   "execution_count": 104,
   "id": "1e0589ee-be02-4ab2-9533-b373fb86fd41",
   "metadata": {},
   "outputs": [],
   "source": [
    "@tool\n",
    "def clickNewImage() ->  str : \n",
    "    \"\"\"Use camera to take picture of the current scenario and gives you the image path \"\"\" \n",
    "    return \"demo.jpeg\"\n",
    "\n",
    "def encoded_image(image_path): \n",
    "    with open(image_path, \"rb\") as image_file:\n",
    "        image_data = image_file.read()\n",
    "        encoded_image = base64.b64encode(image_data).decode(\"utf-8\")\n",
    "        return encoded_image \n",
    "\n",
    "\n",
    "@tool\n",
    "def VisualQuestionAnswer(query: str, image_path : str) -> str:\n",
    "    \"\"\" Takes a query which is the question users asks about the image and image_path which is the path of the image\"\"\" \n",
    "    with open(image_path, \"rb\") as image_file:\n",
    "        image_data = image_file.read()\n",
    "        encoded_image = base64.b64encode(image_data).decode(\"utf-8\")\n",
    "    \n",
    "    prompt =  [\n",
    "        HumanMessage(\n",
    "            content=[\n",
    "                {\"type\": \"text\", \"text\": query},\n",
    "                {\n",
    "                    \"type\": \"image_url\",\n",
    "                    \"image_url\": {\n",
    "                        \"url\": f\"data:image/jpeg;base64,{encoded_image}\"\n",
    "                    },\n",
    "                },\n",
    "            ],\n",
    "        ),\n",
    "    ]\n",
    "    model = ChatOpenAI(model=\"gpt-4o\")\n",
    "    return model.invoke(prompt) \n",
    "    \n",
    "# VisualQuestionAnswer(query = \"what is this picture about\", image_path = \"cats.jpg\")"
   ]
  },
  {
   "cell_type": "code",
   "execution_count": 105,
   "id": "ead9c526-db16-4b38-883f-836451712fbd",
   "metadata": {},
   "outputs": [],
   "source": [
    "tools_for_VLM = [VisualQuestionAnswer, clickNewImage]"
   ]
  },
  {
   "cell_type": "code",
   "execution_count": 106,
   "id": "446c510f-4f61-40d2-ab33-653f8ee6b078",
   "metadata": {},
   "outputs": [],
   "source": [
    "class VisionLanguageTeamState(TypedDict):\n",
    "    messages: Annotated[List[BaseMessage], operator.add]\n",
    "    \n",
    "    team_members: List[str]\n",
    "    \n",
    "    next: str\n",
    "vision_language_agent_prompt = \"You are a Vision Language assistant who can answer based on images. It has 2 tools - clickNewImage which can be called when you want to take a new image, VisualQuestionAnswer when you want to generically answer any question. \""
   ]
  },
  {
   "cell_type": "code",
   "execution_count": 107,
   "id": "9cdae8f4-c636-4c2b-a8eb-e4a72db993f8",
   "metadata": {},
   "outputs": [],
   "source": [
    "def create_agent(\n",
    "    llm: ChatOpenAI,\n",
    "    tools: list,\n",
    "    system_prompt: str,\n",
    ") -> str:\n",
    "    \"\"\"Create a function-calling agent and add it to the graph.\"\"\"\n",
    "    system_prompt += \"\\nWork autonomously according to your specialty, using the tools available to you.\"\n",
    "    \" Do not ask for clarification.\"\n",
    "    \" Your other team members (and other teams) will collaborate with you with their own specialties.\"\n",
    "    \" You are chosen for a reason! You are one of the following team members: {team_members}.\"\n",
    "    prompt = ChatPromptTemplate.from_messages(\n",
    "        [\n",
    "            (\n",
    "                \"system\",\n",
    "                system_prompt,\n",
    "            ),\n",
    "            MessagesPlaceholder(variable_name=\"messages\"),\n",
    "            MessagesPlaceholder(variable_name=\"agent_scratchpad\"),\n",
    "        ]\n",
    "    )\n",
    "    agent = create_openai_functions_agent(llm, tools, prompt)\n",
    "    executor = AgentExecutor(agent=agent, tools=tools)\n",
    "    return executor\n",
    "\n",
    "def agent_node(state, agent, name):\n",
    "    result = agent.invoke(state)\n",
    "    return {\"messages\": [HumanMessage(content=result[\"output\"], name=name)]}\n"
   ]
  },
  {
   "cell_type": "code",
   "execution_count": 108,
   "id": "43081563-ded9-492c-b137-3199528ce0a5",
   "metadata": {},
   "outputs": [],
   "source": [
    "llm = ChatOpenAI(model=\"gpt-4-1106-preview\")\n",
    "\n",
    "vision_language_agent = create_agent(\n",
    "    llm,\n",
    "    tools_for_VLM,\n",
    "    vision_language_agent_prompt,\n",
    ")\n",
    "\n",
    "vision_language_node = functools.partial(agent_node, agent=vision_language_agent, name=\"Vision_Language_Agent\")"
   ]
  },
  {
   "cell_type": "code",
   "execution_count": 109,
   "id": "fc7d04d4-8672-4206-9176-71e03d68b1f5",
   "metadata": {},
   "outputs": [],
   "source": [
    "## dummy nodes for language and video agent \n",
    "\n",
    "tavily_tool = TavilySearchResults(max_results=5)\n",
    "\n",
    "language_agent_prompt = \"You are a language assistant who can give you answers based on just text. If you get a final answer summarise the answer. \" \n",
    "language_agent = create_agent(\n",
    "    llm,\n",
    "    [tavily_tool],\n",
    "    language_agent_prompt,\n",
    ")\n",
    "\n",
    "language_agent_node = functools.partial(agent_node, agent=language_agent, name=\"Language_Agent\")\n",
    "\n",
    "\n",
    "video_agent_prompt = \"You are a video assistant who can give you answers based on videos. This agent will only be called when to answer for a query we need a video to process. If you get a final answer summarise the answer\" \n",
    "video_agent = create_agent(\n",
    "    llm,\n",
    "    [],\n",
    "    video_agent_prompt,\n",
    ")\n",
    "\n",
    "video_agent_node = functools.partial(agent_node, agent=video_agent, name=\"Video_Agent\")"
   ]
  },
  {
   "cell_type": "code",
   "execution_count": 110,
   "id": "2fcf3e8c-5712-4665-bec2-ad2085eabfe9",
   "metadata": {},
   "outputs": [],
   "source": [
    "def create_team_supervisor(llm: ChatOpenAI, system_prompt, members) -> str:\n",
    "    \"\"\"An LLM-based router.\"\"\"\n",
    "    options = [\"FINISH\"] + members\n",
    "    function_def = {\n",
    "        \"name\": \"route\",\n",
    "        \"description\": \"Select the next role.\",\n",
    "        \"parameters\": {\n",
    "            \"title\": \"routeSchema\",\n",
    "            \"type\": \"object\",\n",
    "            \"properties\": {\n",
    "                \"next\": {\n",
    "                    \"title\": \"Next\",\n",
    "                    \"anyOf\": [\n",
    "                        {\"enum\": options},\n",
    "                    ],\n",
    "                },\n",
    "            },\n",
    "            \"required\": [\"next\"],\n",
    "        },\n",
    "    }\n",
    "    prompt = ChatPromptTemplate.from_messages(\n",
    "        [\n",
    "            (\"system\", system_prompt),\n",
    "            MessagesPlaceholder(variable_name=\"messages\"),\n",
    "            (\n",
    "                \"system\",\n",
    "                \"Given the conversation above, who should act next?\"\n",
    "                \" Or should we FINISH? Select one of: {options}\",\n",
    "            ),\n",
    "        ]\n",
    "    ).partial(options=str(options), team_members=\", \".join(members))\n",
    "    return (\n",
    "        prompt\n",
    "        | llm.bind_functions(functions=[function_def], function_call=\"route\")\n",
    "        | JsonOutputFunctionsParser()\n",
    "    )\n",
    "\n",
    "supervisor_agent = create_team_supervisor(\n",
    "    llm,\n",
    "    \"You are a supervisor tasked with managing a conversation between the\"\n",
    "    \" following workers:  Vision Language Agent, Video Agent and Language Agent. Given the following user request,\"\n",
    "    \" respond with the worker to act next. Each worker will perform a\"\n",
    "    \" task and respond with their results and status. When finished,\"\n",
    "    \" respond with FINISH and just summarise the result.\",\n",
    "    [\"Language_Agent\",\"Vision_Language_Agent\", \"Video_Agent\"],\n",
    ")"
   ]
  },
  {
   "cell_type": "code",
   "execution_count": 114,
   "id": "5eb799fb-b4cc-4e7a-9c6d-84b3eaaa0e22",
   "metadata": {},
   "outputs": [],
   "source": [
    "agent_graph = StateGraph(VisionLanguageTeamState)\n",
    "agent_graph.add_node(\"Vision_Language_Agent\", vision_language_node)\n",
    "agent_graph.add_node(\"Video_Agent\", video_agent_node)\n",
    "agent_graph.add_node(\"Language_Agent\", language_agent_node)\n",
    "agent_graph.add_node(\"supervisor\", supervisor_agent)\n",
    "\n",
    "agent_graph.add_edge(\"Language_Agent\", \"supervisor\")\n",
    "agent_graph.add_edge(\"Vision_Language_Agent\", \"supervisor\")\n",
    "agent_graph.add_edge(\"Video_Agent\", \"supervisor\")\n",
    "agent_graph.add_conditional_edges(\n",
    "    \"supervisor\",\n",
    "    lambda x: x[\"next\"],\n",
    "    {\"Vision_Language_Agent\": \"Vision_Language_Agent\", \"Language_Agent\": \"Language_Agent\",\"Video_Agent\": \"Video_Agent\", \"FINISH\": END},\n",
    ")\n",
    "\n",
    "# memory = AsyncSqliteSaver.from_conn_string(\":memory:\")\n",
    "checkpointer = MemorySaver()\n",
    "\n",
    "agent_graph.add_edge(START, \"supervisor\")\n",
    "chain = agent_graph.compile(checkpointer=checkpointer)\n",
    "\n",
    "\n",
    "# The following functions interoperate between the top level graph state\n",
    "# and the state of the research sub-graph\n",
    "# this makes it so that the states of each graph don't get intermixed\n",
    "def enter_chain(message: str):\n",
    "    results = {\n",
    "        \"messages\": [HumanMessage(content=message)],\n",
    "    }\n",
    "    return results\n",
    "\n",
    "\n",
    "# research_chain = enter_chain | chain\n",
    "research_chain = chain "
   ]
  },
  {
   "cell_type": "code",
   "execution_count": 116,
   "id": "64db5ae6-4831-4d55-ac15-e8cc8b289308",
   "metadata": {},
   "outputs": [
    {
     "data": {
      "image/jpeg": "[encoded data removed]",
      "text/plain": [
       "<IPython.core.display.Image object>"
      ]
     },
     "metadata": {},
     "output_type": "display_data"
    }
   ],
   "source": [
    "from IPython.display import Image, display\n",
    "\n",
    "display(Image(chain.get_graph(xray=True).draw_mermaid_png()))"
   ]
  },
  {
   "cell_type": "code",
   "execution_count": 120,
   "id": "342c97b0-8d5b-4344-8351-838d6d154817",
   "metadata": {},
   "outputs": [
    {
     "name": "stdout",
     "output_type": "stream",
     "text": [
      "{'supervisor': {'next': 'Vision_Language_Agent'}}\n",
      "---\n",
      "{'Vision_Language_Agent': {'messages': [HumanMessage(content='In front of you is a person in a kitchen preparing food. They are holding a bowl and appear to be adding chopped vegetables to it. The countertop in front of them has various vegetables, including carrots and leafy greens. The person is wearing an apron, which suggests that they are cooking or preparing a meal.', name='Vision_Language_Agent')]}}\n",
      "---\n",
      "{'supervisor': {'next': 'FINISH'}}\n",
      "---\n"
     ]
    }
   ],
   "source": [
    "# config = {\"configurable\": {\"thread_id\": \"2\"}}\n",
    "\n",
    "# for s in research_chain.stream(\n",
    "#     {\"messages\": [input_message]},\n",
    "#     {\"recursion_limit\": 100}\n",
    "# ):\n",
    "#     if \"__end__\" not in s:\n",
    "#         print(s)\n",
    "#         print(\"---\")\n",
    "for s in research_chain.stream(\n",
    "    {\"messages\": [HumanMessage(content=\"What is infront of me ?\")]},\n",
    "    config={\"configurable\": {\"thread_id\": 42}}\n",
    "): \n",
    "    if \"__end__\" not in s:\n",
    "        print(s)\n",
    "        print(\"---\")\n"
   ]
  },
  {
   "cell_type": "code",
   "execution_count": 121,
   "id": "32d37691-d17e-4fe7-9e7e-00fce4628e48",
   "metadata": {},
   "outputs": [
    {
     "name": "stdout",
     "output_type": "stream",
     "text": [
      "{'supervisor': {'next': 'Language_Agent'}}\n",
      "---\n",
      "{'Language_Agent': {'messages': [HumanMessage(content=\"Based on the vegetables you mentioned—carrots and leafy greens—here are some meal ideas you can consider making:\\n\\n1. **Salad**: Create a fresh and healthy salad by chopping up the carrots and leafy greens and adding your favorite dressing. You can also include other ingredients like nuts, seeds, fruits, cheese, or croutons for added flavor and texture.\\n\\n2. **Stir-fry**: Make a quick and nutritious stir-fry by sautéing the chopped vegetables in a pan with some oil. You can add protein like tofu, chicken, beef, or shrimp and serve it over rice or noodles.\\n\\n3. **Soup**: Cook a comforting vegetable soup by simmering the carrots and leafy greens in a broth with other vegetables like onions, celery, and potatoes. Add herbs and spices to taste.\\n\\n4. **Smoothie**: If you have a blender, you can make a green smoothie with the leafy greens, adding fruits like apple or banana for sweetness, and perhaps a bit of ginger for a kick.\\n\\n5. **Roasted Vegetables**: Toss the carrots with some olive oil, salt, and your favorite herbs, then roast them in the oven until they're tender and caramelized. Serve them as a side dish or add them to bowls or salads.\\n\\n6. **Veggie Wrap**: Use the leafy greens as a wrap or add them to a tortilla along with grated carrots, and other fillings like hummus, avocado, and sliced bell peppers for a healthy lunch option.\\n\\n7. **Pasta Primavera**: Cook pasta and toss it with sautéed carrots, leafy greens, garlic, and olive oil. Top with grated Parmesan cheese for an easy and satisfying meal.\\n\\n8. **Juice**: If you have a juicer, you can make a nutritious juice by juicing the carrots and leafy greens, perhaps adding apple, lemon, or cucumber for additional flavors.\\n\\nFeel free to get creative and combine these ingredients with any other items you may have in your kitchen to create a dish that suits your taste!\", name='Language_Agent')]}}\n",
      "---\n",
      "{'supervisor': {'next': 'FINISH'}}\n",
      "---\n"
     ]
    }
   ],
   "source": [
    "for s in research_chain.stream(\n",
    "    {\"messages\": [HumanMessage(content=\"what can i make using these? \")]},\n",
    "    config={\"configurable\": {\"thread_id\": 42}}\n",
    "): \n",
    "    if \"__end__\" not in s:\n",
    "        print(s)\n",
    "        print(\"---\")\n",
    "\n"
   ]
  },
  {
   "cell_type": "code",
   "execution_count": 122,
   "id": "f8ab2c20-5d60-4f20-9c6f-22f985ad4303",
   "metadata": {},
   "outputs": [
    {
     "name": "stdout",
     "output_type": "stream",
     "text": [
      "Enter your question (type 'exit' to quit):\n"
     ]
    },
    {
     "name": "stdin",
     "output_type": "stream",
     "text": [
      ">>  what is infront of me ? \n"
     ]
    },
    {
     "name": "stdout",
     "output_type": "stream",
     "text": [
      "{'supervisor': {'next': 'Vision_Language_Agent'}}\n",
      "---\n",
      "{'Vision_Language_Agent': {'messages': [HumanMessage(content='In front of you is a person in a kitchen preparing food. The person is wearing an apron and is in the process of chopping vegetables. On the kitchen counter, you can see various vegetables, including carrots, onions, and leafy greens. It looks like they are placing the chopped vegetables into a stainless steel pot. The kitchen presents a cozy and well-organized atmosphere.', name='Vision_Language_Agent')]}}\n",
      "---\n",
      "{'supervisor': {'next': 'FINISH'}}\n",
      "---\n"
     ]
    },
    {
     "name": "stdin",
     "output_type": "stream",
     "text": [
      ">>  what kind of food could I make using these ? \n"
     ]
    },
    {
     "name": "stdout",
     "output_type": "stream",
     "text": [
      "{'supervisor': {'next': 'Language_Agent'}}\n",
      "---\n",
      "{'Language_Agent': {'messages': [HumanMessage(content=\"With the ingredients mentioned—carrots, onions, and leafy greens—there are several delicious and nutritious meals you could prepare. Here are some ideas:\\n\\n1. **Vegetable Soup**: Use the carrots and onions as a base for a hearty vegetable soup, adding the leafy greens at the end for a burst of color and nutrients. You can include other vegetables, beans, or grains you might have on hand.\\n\\n2. **Stir-Fry**: Create a quick stir-fry by sautéing the onions and carrots first until slightly tender, then adding the leafy greens until they wilt. Serve this over rice or noodles, and add a protein like tofu, chicken, or shrimp if available.\\n\\n3. **Salad**: Make a refreshing salad by shredding the carrots, chopping the leafy greens, and slicing the onions thinly. Combine them and dress with a vinaigrette or your favorite salad dressing.\\n\\n4. **Frittata or Omelette**: Sauté the onions and carrots until soft, then add the leafy greens to wilt. Pour beaten eggs over the vegetables and cook until the eggs are set for a frittata or omelette.\\n\\n5. **Roasted Vegetables**: Cut carrots and onions into chunks and roast them in the oven with olive oil, salt, and pepper until they are caramelized. Stir in the leafy greens towards the end of cooking or serve them on the side as a salad.\\n\\n6. **Pasta with Vegetables**: Sauté onions and carrots, then add the leafy greens to wilt. Toss this mixture with cooked pasta, olive oil, and grated cheese for a simple pasta dish.\\n\\n7. **Rice Pilaf**: Cook onions and carrots until softened, then add rice and cook according to the package instructions. Stir in the leafy greens at the end until they're just wilted.\\n\\n8. **Smoothies**: If the leafy greens are something like spinach or kale, you can blend them with fruit for a healthy smoothie. Carrots can also be added to smoothies for extra nutrition.\\n\\n9. **Wraps or Sandwiches**: Use the leafy greens as a wrap or add them to sandwiches along with grated or sliced carrots and onions for crunch and flavor.\\n\\n10. **Savory Pancakes or Fritters**: Grate the carrots and finely chop the onions and leafy greens. Mix them into a pancake batter and cook on a griddle for savory pancakes or fritters.\\n\\nRemember, you can always experiment with different herbs, spices, and additional ingredients to create a meal that suits your taste preferences.\", name='Language_Agent')]}}\n",
      "---\n",
      "{'supervisor': {'next': 'FINISH'}}\n",
      "---\n"
     ]
    },
    {
     "name": "stdin",
     "output_type": "stream",
     "text": [
      ">>  exit\n"
     ]
    },
    {
     "name": "stdout",
     "output_type": "stream",
     "text": [
      "Exiting the interactive prompt.\n"
     ]
    }
   ],
   "source": [
    "\n",
    "def interactive_prompt():\n",
    "    config = {\"configurable\": {\"thread_id\": 42}}\n",
    "    \n",
    "    print(\"Enter your question (type 'exit' to quit):\")\n",
    "    \n",
    "    while True:\n",
    "        user_input = input(\">> \")\n",
    "        \n",
    "        if user_input.lower() == 'exit':\n",
    "            print(\"Exiting the interactive prompt.\")\n",
    "            break\n",
    "        \n",
    "        # Create a message from user input\n",
    "        input_message = HumanMessage(content=user_input)\n",
    "        \n",
    "        # Stream the response from the Langraph agent framework\n",
    "        for s in research_chain.stream({\"messages\": [input_message]}, config):\n",
    "            if \"__end__\" not in s:\n",
    "                print(s)\n",
    "                print(\"---\")\n",
    "\n",
    "if __name__ == \"__main__\":\n",
    "    interactive_prompt()\n"
   ]
  },
  {
   "cell_type": "code",
   "execution_count": 124,
   "id": "bd250852-3052-4b94-a5c4-f2a3f71189f8",
   "metadata": {},
   "outputs": [
    {
     "name": "stdout",
     "output_type": "stream",
     "text": [
      "Enter your question (type 'exit' to quit):\n"
     ]
    },
    {
     "name": "stdin",
     "output_type": "stream",
     "text": [
      ">>  what do you see infront of me ?\n"
     ]
    },
    {
     "name": "stdout",
     "output_type": "stream",
     "text": [
      "{'supervisor': {'next': 'Vision_Language_Agent'}}{'Vision_Language_Agent': {'messages': [HumanMessage(content='In front of you is an image of a person in a kitchen preparing food. The person is wearing a denim shirt and an apron, and they are chopping vegetables. There are various vegetables on the counter, including carrots, onions, and leafy greens. The kitchen appears to be well-organized with shelves and kitchen utensils visible.', name='Vision_Language_Agent')]}}{'supervisor': {'next': 'FINISH'}}"
     ]
    },
    {
     "name": "stdin",
     "output_type": "stream",
     "text": [
      ">>  exit\n"
     ]
    },
    {
     "name": "stdout",
     "output_type": "stream",
     "text": [
      "Exiting the interactive prompt.\n"
     ]
    }
   ],
   "source": [
    "import sys\n",
    "\n",
    "\n",
    "def interactive_prompt():\n",
    "    config = {\"configurable\": {\"thread_id\": 42}}\n",
    "    \n",
    "    print(\"Enter your question (type 'exit' to quit):\")\n",
    "    \n",
    "    while True:\n",
    "        user_input = input(\">> \")\n",
    "        \n",
    "        if user_input.lower() == 'exit':\n",
    "            print(\"Exiting the interactive prompt.\")\n",
    "            break\n",
    "        \n",
    "        # Create a message from user input\n",
    "        input_message = HumanMessage(content=user_input)\n",
    "        \n",
    "        # Stream the response from the Langraph agent framework\n",
    "        for s in research_chain.stream({\"messages\": [input_message]}, config):\n",
    "            if \"__end__\" not in s:\n",
    "                print(s, end='', flush=True)\n",
    "            else:\n",
    "                print(\"---\")\n",
    "\n",
    "if __name__ == \"__main__\":\n",
    "    interactive_prompt()\n"
   ]
  }
 ],
 "metadata": {
  "kernelspec": {
   "display_name": "Python 3 (ipykernel)",
   "language": "python",
   "name": "python3"
  },
  "language_info": {
   "codemirror_mode": {
    "name": "ipython",
    "version": 3
   },
   "file_extension": ".py",
   "mimetype": "text/x-python",
   "name": "python",
   "nbconvert_exporter": "python",
   "pygments_lexer": "ipython3",
   "version": "3.11.4"
  }
 },
 "nbformat": 4,
 "nbformat_minor": 5
}
